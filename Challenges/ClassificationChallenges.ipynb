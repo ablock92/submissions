{
 "metadata": {
  "name": "",
  "signature": "sha256:3509295f4994558f45ee06b3d6aa7050cde9928bbd66643816c9c897c70ee367"
 },
 "nbformat": 3,
 "nbformat_minor": 0,
 "worksheets": [
  {
   "cells": [
    {
     "cell_type": "code",
     "collapsed": false,
     "input": [
      "%matplotlib inline\n",
      "import matplotlib.pyplot as plt\n",
      "\n",
      "import pandas as pd\n",
      "import numpy as np\n",
      "\n",
      "from sklearn.cross_validation import train_test_split\n",
      "from sklearn.metrics import accuracy_score\n",
      "from sklearn.cross_validation import cross_val_score\n",
      "from sklearn.learning_curve import learning_curve\n",
      "\n",
      "from sklearn.neighbors import KNeighborsClassifier\n",
      "from sklearn.linear_model import LogisticRegression\n",
      "from sklearn.naive_bayes import GaussianNB\n",
      "from sklearn.svm import SVC\n",
      "from sklearn.tree import DecisionTreeClassifier\n",
      "from sklearn.ensemble import RandomForestClassifier"
     ],
     "language": "python",
     "metadata": {},
     "outputs": [
      {
       "output_type": "stream",
       "stream": "stderr",
       "text": [
        "/usr/local/Cellar/python/2.7.8_1/Frameworks/Python.framework/Versions/2.7/lib/python2.7/site-packages/scipy/spatial/__init__.py:90: RuntimeWarning: numpy.dtype size changed, may indicate binary incompatibility\n",
        "  from .ckdtree import *\n",
        "/usr/local/Cellar/python/2.7.8_1/Frameworks/Python.framework/Versions/2.7/lib/python2.7/site-packages/scipy/spatial/__init__.py:90: RuntimeWarning: numpy.ufunc size changed, may indicate binary incompatibility\n",
        "  from .ckdtree import *\n",
        "/usr/local/Cellar/python/2.7.8_1/Frameworks/Python.framework/Versions/2.7/lib/python2.7/site-packages/scipy/spatial/__init__.py:91: RuntimeWarning: numpy.dtype size changed, may indicate binary incompatibility\n",
        "  from .qhull import *\n",
        "/usr/local/Cellar/python/2.7.8_1/Frameworks/Python.framework/Versions/2.7/lib/python2.7/site-packages/scipy/spatial/__init__.py:91: RuntimeWarning: numpy.ufunc size changed, may indicate binary incompatibility\n",
        "  from .qhull import *\n",
        "/usr/local/Cellar/python/2.7.8_1/Frameworks/Python.framework/Versions/2.7/lib/python2.7/site-packages/scipy/stats/_continuous_distns.py:24: RuntimeWarning: numpy.dtype size changed, may indicate binary incompatibility\n",
        "  from . import vonmises_cython\n"
       ]
      },
      {
       "output_type": "stream",
       "stream": "stderr",
       "text": [
        "/usr/local/Cellar/python/2.7.8_1/Frameworks/Python.framework/Versions/2.7/lib/python2.7/site-packages/scipy/stats/_continuous_distns.py:24: RuntimeWarning: numpy.ufunc size changed, may indicate binary incompatibility\n",
        "  from . import vonmises_cython\n",
        "/usr/local/Cellar/python/2.7.8_1/Frameworks/Python.framework/Versions/2.7/lib/python2.7/site-packages/scipy/stats/stats.py:188: RuntimeWarning: numpy.dtype size changed, may indicate binary incompatibility\n",
        "  from ._rank import rankdata, tiecorrect\n"
       ]
      },
      {
       "output_type": "stream",
       "stream": "stderr",
       "text": [
        "/usr/local/Cellar/python/2.7.8_1/Frameworks/Python.framework/Versions/2.7/lib/python2.7/site-packages/scipy/stats/stats.py:188: RuntimeWarning: numpy.ufunc size changed, may indicate binary incompatibility\n",
        "  from ._rank import rankdata, tiecorrect\n",
        "/usr/local/Cellar/python/2.7.8_1/Frameworks/Python.framework/Versions/2.7/lib/python2.7/site-packages/scipy/interpolate/interpolate.py:28: RuntimeWarning: numpy.dtype size changed, may indicate binary incompatibility\n",
        "  from . import _ppoly\n",
        "/usr/local/Cellar/python/2.7.8_1/Frameworks/Python.framework/Versions/2.7/lib/python2.7/site-packages/scipy/interpolate/interpolate.py:28: RuntimeWarning: numpy.ufunc size changed, may indicate binary incompatibility\n",
        "  from . import _ppoly\n"
       ]
      }
     ],
     "prompt_number": 1
    },
    {
     "cell_type": "markdown",
     "metadata": {},
     "source": [
      "## Challenge 1\n",
      "\n",
      "Load the data into a pandas dataframe. Replace 'y's with 1s, 'n's with 0s.\n",
      "Now, almost every representative has a ?. This represents a no vote (they were absent or some other similar reason). If we dropped all the rows that had a ?, we would throw out most of our data. Instead, we will replace ? with the best guess in the Bayesian sense: in the absence of any other information, we will say that the probability of the representative saying YES is the ratio of others that said YES over the whole votes.\n",
      "So, convert each ? to this probability (when yes=1 and no=0, this is the mean of the column)"
     ]
    },
    {
     "cell_type": "code",
     "collapsed": false,
     "input": [
      "votes_df = pd.io.parsers.read_csv('./Data/house-votes-84.data.csv',header=None)"
     ],
     "language": "python",
     "metadata": {},
     "outputs": [],
     "prompt_number": 2
    },
    {
     "cell_type": "code",
     "collapsed": false,
     "input": [
      "def get_col_ratio(column):\n",
      "    col_sum = 0\n",
      "    for val in column:\n",
      "        if val != \"?\":\n",
      "            col_sum += val\n",
      "    return float(col_sum)/len(column)\n",
      "\n",
      "def replace_question_marks_with_ratio(dataframe):\n",
      "    for col in range(1,17):\n",
      "        column = dataframe[col]\n",
      "        ratio = get_col_ratio( column )\n",
      "        column = column.replace('?',ratio)\n",
      "        dataframe[col] = column\n",
      "    return dataframe\n",
      "\n",
      "def replace_question_marks_with_mode(dataframe):\n",
      "    for col in range(1,17):\n",
      "        column = dataframe[col]\n",
      "        ratio = get_col_ratio( column )\n",
      "        if ratio > 0.5:\n",
      "            column = column.replace('?',1)\n",
      "        else:\n",
      "            column = column.replace('?',0)\n",
      "        dataframe[col]=column\n",
      "    return dataframe\n",
      "\n",
      "def clean_dataframe(dataframe, missing_data_key):\n",
      "    missing_data_dict = {'ratio': replace_question_marks_with_ratio,\n",
      "                         'mode': replace_question_marks_with_mode}\n",
      "    \n",
      "    dataframe = dataframe.replace('y',1)\n",
      "    dataframe = dataframe.replace('n',0)\n",
      "    dataframe = missing_data_dict[missing_data_key](dataframe)\n",
      "        \n",
      "    return dataframe"
     ],
     "language": "python",
     "metadata": {},
     "outputs": [],
     "prompt_number": 3
    },
    {
     "cell_type": "code",
     "collapsed": false,
     "input": [
      "votes_df = clean_dataframe(votes_df,'ratio')\n",
      "X = votes_df[range(1,17)]\n",
      "y = votes_df[0]"
     ],
     "language": "python",
     "metadata": {},
     "outputs": [],
     "prompt_number": 4
    },
    {
     "cell_type": "markdown",
     "metadata": {},
     "source": [
      "##Challenge 2\n",
      "\n",
      "Split the data into a test and training set. But this time, use this function: from sklearn.cross_validation import train_test_split"
     ]
    },
    {
     "cell_type": "code",
     "collapsed": false,
     "input": [
      "votes_train,votes_test = train_test_split(votes_df)"
     ],
     "language": "python",
     "metadata": {},
     "outputs": [],
     "prompt_number": 5
    },
    {
     "cell_type": "markdown",
     "metadata": {},
     "source": [
      "##Challenge 3\n",
      "\n",
      "Using scikit.learn's KNN algorithm, train a model that predicts the party (republican/democrat) from sklearn.neighbors import KNeighborsClassifier\n",
      "\n",
      "Try it with a lot of different k values (number of neighbors), from 1 to 20, and on the test set calculate the accuracy (number of correct predictions / number of all predictions) for each k\n",
      "\n",
      "You can use this to calculate accuracy: from sklearn.metrics import accuracy_score"
     ]
    },
    {
     "cell_type": "code",
     "collapsed": false,
     "input": [
      "def get_X_y(dataset):\n",
      "    X = []\n",
      "    y = []\n",
      "    for voter in dataset:\n",
      "        X.append(voter[1:])\n",
      "        y.append(voter[0])\n",
      "    return X,y"
     ],
     "language": "python",
     "metadata": {},
     "outputs": [],
     "prompt_number": 6
    },
    {
     "cell_type": "code",
     "collapsed": false,
     "input": [
      "X_train, y_train = get_X_y(votes_train)\n",
      "X_test, y_test = get_X_y(votes_test)"
     ],
     "language": "python",
     "metadata": {},
     "outputs": [],
     "prompt_number": 7
    },
    {
     "cell_type": "code",
     "collapsed": true,
     "input": [
      "def fit_KNeighbors_classifier(X,y,neighbors):\n",
      "    '''Fits a K Nearest Neighbors Classifier on the given X,y and returns the classifier'''\n",
      "    classifier = KNeighborsClassifier(neighbors)\n",
      "    classifier = classifier.fit(X,y)\n",
      "    return classifier\n",
      "\n",
      "def get_pred_accuracy(classifier, X, y_true):\n",
      "    '''Calculates the prediction accuracy of the given classifier'''\n",
      "    y_pred = classifier.predict(X)\n",
      "    pred_accuracy = accuracy_score(y_true,y_pred)\n",
      "    return pred_accuracy"
     ],
     "language": "python",
     "metadata": {},
     "outputs": [],
     "prompt_number": 8
    },
    {
     "cell_type": "code",
     "collapsed": false,
     "input": [
      "k_neighbors_range = range(1,21)\n",
      "pred_accuracies_KN=[]\n",
      "for neighbors in k_neighbors_range:\n",
      "    classifier_KN = fit_KNeighbors_classifier(X_train,y_train,neighbors)\n",
      "    accuracy_KN = get_pred_accuracy(classifier_KN,X_test,y_test)\n",
      "    pred_accuracies_KN.append(accuracy_KN)\n",
      "best_k = pred_accuracies_KN.index(max(pred_accuracies_KN))+1 # best_k = 'index of the max "
     ],
     "language": "python",
     "metadata": {},
     "outputs": [],
     "prompt_number": 9
    },
    {
     "cell_type": "markdown",
     "metadata": {},
     "source": [
      "##Challenge 4\n",
      "\n",
      "Make a similar model but with LogisticRegression instead, calculate test accuracy."
     ]
    },
    {
     "cell_type": "code",
     "collapsed": false,
     "input": [
      "def fit_logistic_regression(X,y):\n",
      "    '''Fits a Logistic Regression Classifier on the given X,y and returns the classifier'''\n",
      "    classifier = LogisticRegression().fit(X,y)\n",
      "    return classifier"
     ],
     "language": "python",
     "metadata": {},
     "outputs": [],
     "prompt_number": 10
    },
    {
     "cell_type": "code",
     "collapsed": false,
     "input": [
      "classifier_lr = fit_logistic_regression(X_train,y_train)\n",
      "accuracy_lr = get_pred_accuracy(classifier_lr,X_test,y_test)"
     ],
     "language": "python",
     "metadata": {},
     "outputs": [],
     "prompt_number": 11
    },
    {
     "cell_type": "markdown",
     "metadata": {},
     "source": [
      "##Challenge 5\n",
      "\n",
      "Make a bar graph of democrats and republicans. How many of each are there? Make a very simple predictor that predicts 'democrat' for every incoming example. (Just make a function that takes in an X --an array or matrix with input examples--, and returns an array of the same length as X, where each value is 'democrat'. For example, if X is three rows, your function should return ['democrat','democrat','democrat']) Make a y_predicted vector using this and measure its accuracy. Do the same with predicting 'republican' all the time and measure its accuracy."
     ]
    },
    {
     "cell_type": "code",
     "collapsed": false,
     "input": [
      "def get_num_of_value(value_to_get,df_column):\n",
      "    '''Returns the number of times that the specified value appears in the colum'''\n",
      "    counter = 0\n",
      "    for val in df_column:\n",
      "        if val == value_to_get:\n",
      "            counter+=1\n",
      "    return counter\n",
      "\n",
      "def predict_democrat(X):\n",
      "    '''Return an array of 'democrat' that matches the length of the input X'''\n",
      "    return_array = ['democrat']*len(X)\n",
      "    return return_array\n",
      "\n",
      "def predict_republican(X):\n",
      "    '''Return an array of 'republican' that matches the length of the input X'''\n",
      "    return_array = ['republican']*len(X)\n",
      "    return return_array"
     ],
     "language": "python",
     "metadata": {},
     "outputs": [],
     "prompt_number": 12
    },
    {
     "cell_type": "code",
     "collapsed": false,
     "input": [
      "label_column = votes_df[0]\n",
      "num_democrats = get_num_of_value('democrat',label_column)\n",
      "num_republicans = get_num_of_value('republican',label_column)"
     ],
     "language": "python",
     "metadata": {},
     "outputs": [],
     "prompt_number": 13
    },
    {
     "cell_type": "code",
     "collapsed": false,
     "input": [
      "pos = [x+0.5 for x in range(2)]\n",
      "\n",
      "fig,ax = plt.subplots()\n",
      "ax.bar(pos, [num_democrats,num_republicans],align='center')\n",
      "\n",
      "ax.set_xticks(pos)\n",
      "ax.set_xticklabels(['democrats','republicans'],fontsize='14')"
     ],
     "language": "python",
     "metadata": {},
     "outputs": [
      {
       "metadata": {},
       "output_type": "pyout",
       "prompt_number": 14,
       "text": [
        "[<matplotlib.text.Text at 0x10c7d8150>, <matplotlib.text.Text at 0x10c7bed10>]"
       ]
      },
      {
       "metadata": {},
       "output_type": "display_data",
       "png": "[encoded data removed]",
       "text": [
        "<matplotlib.figure.Figure at 0x10c739350>"
       ]
      }
     ],
     "prompt_number": 14
    },
    {
     "cell_type": "code",
     "collapsed": false,
     "input": [
      "dem_array = predict_democrat(X_test)\n",
      "rep_array = predict_republican(X_test)\n",
      "\n",
      "accuracy_dem = accuracy_score(y_test,dem_array)\n",
      "accuracy_rep = accuracy_score(y_test,rep_array)"
     ],
     "language": "python",
     "metadata": {},
     "outputs": [],
     "prompt_number": 15
    },
    {
     "cell_type": "markdown",
     "metadata": {},
     "source": [
      "##Challenge 6\n",
      "\n",
      "Plot the accuracies as a function of k. Since k only matters for KNN, your logistic regression accuracy, 'democrat' predictor accuracy and 'republican' predictor accuracy will stay the same over all k, so each of these three will be a horizontal line. But the KNN accuracy will change with k."
     ]
    },
    {
     "cell_type": "code",
     "collapsed": false,
     "input": [
      "pred_accuracies_lr = [accuracy_lr] * len(pred_accuracies_KN)\n",
      "pred_accuracies_dem = [accuracy_dem] * len(pred_accuracies_KN)\n",
      "pred_accuracies_rep = [accuracy_rep] * len(pred_accuracies_KN)\n",
      "\n",
      "fig,ax = plt.subplots()\n",
      "ax.plot(k_neighbors_range,pred_accuracies_KN, label = 'K Nearest Neighbors')\n",
      "ax.plot(k_neighbors_range,pred_accuracies_lr, label = 'Logistic Regression')\n",
      "ax.plot(k_neighbors_range,pred_accuracies_dem, label = 'All Democrats')\n",
      "ax.plot(k_neighbors_range,pred_accuracies_rep, label = 'All Republicans')\n",
      "\n",
      "ax.set_xlabel('Number of Neighbors',fontsize = 14)\n",
      "ax.set_ylabel('Prediction Accuracy (%)',fontsize = 14)\n",
      "\n",
      "ax.legend(loc='center')"
     ],
     "language": "python",
     "metadata": {},
     "outputs": [
      {
       "metadata": {},
       "output_type": "pyout",
       "prompt_number": 16,
       "text": [
        "<matplotlib.legend.Legend at 0x10c967150>"
       ]
      },
      {
       "metadata": {},
       "output_type": "display_data",
       "png": "[encoded data removed]",
       "text": [
        "<matplotlib.figure.Figure at 0x10c85db50>"
       ]
      }
     ],
     "prompt_number": 16
    },
    {
     "cell_type": "markdown",
     "metadata": {},
     "source": [
      "##Challenge 7\n",
      "\n",
      "Plot a learning curve for the logistic regression model. But instead of going through the painstaking steps of doing it yourself, use this function:\n",
      "from sklearn.learning_curve import learning_curve\n",
      "\n",
      "This will give you the m, training errors and testing errors. All you need to do is plot them. You don't even need to give it separate training/test sets. It will do crossvalidation all by itself. Easy, isn't it? : )\n",
      "\n",
      "Remember, since it does cross-validation, it doesn't have a single training error or test error per m value. Instead, it has one for each fold (separate partition) of the cross validation. A good idea is to take the mean of these errors from different folds. This gives you a meaningful single number per m. What I mean is that doing something like: train_cv_err = np.mean(train_err,axis=1) test_cv_err = np.mean(ts_err,axis=1)\n",
      "\n",
      "before plotting m vs train_cv_err and m vs test_cv_err, where train_err and test_err are the vectors returned by the learning curve function. The np.mean(...., axis=1) means take the mean along axis 1 (axis 1 is the columns axis-- for each row, you have a bunch of columns, each corresponding to a cross validation fold, you are averaging these columns for each row).\n",
      "\n",
      "Draw the learning curve for KNN with the best k value as well."
     ]
    },
    {
     "cell_type": "code",
     "collapsed": false,
     "input": [
      "def plot_learning_curve(classifier,X,y,axis_to_plot):\n",
      "    train_sizes, train_scores, test_scores = learning_curve(LogisticRegression(),X,y)\n",
      "    train_cv_err = np.mean( train_scores, axis=1 )\n",
      "    test_cv_err = np.mean( test_scores, axis=1 )\n",
      "    axis_to_plot.plot(train_sizes,train_cv_err,label='Training')\n",
      "    axis_to_plot.plot(train_sizes,test_cv_err,label='Test')"
     ],
     "language": "python",
     "metadata": {},
     "outputs": [],
     "prompt_number": 17
    },
    {
     "cell_type": "code",
     "collapsed": false,
     "input": [
      "fig,ax = plt.subplots(2)\n",
      "plot_learning_curve(LogisticRegression,X,y,ax[0])\n",
      "plot_learning_curve(KNeighborsClassifier(best_k),X,y,ax[1])\n",
      "\n",
      "#plt.title(\"Learning Curves\")\n",
      "ax[0].legend(loc='lower right')\n",
      "ax[0].set_xlabel(\"Size of Training Set\")\n",
      "ax[0].set_ylabel('Accuracy')\n",
      "ax[0].set_title(\"Logistic Regression\")\n",
      "\n",
      "ax[1].legend(loc='lower right')\n",
      "ax[1].set_xlabel(\"Size of Training Set\")\n",
      "ax[1].set_ylabel('Accuracy')\n",
      "ax[1].set_title(\"K Nearest Neighbors (k=\"+str(best_k)+')')\n",
      "\n",
      "plt.tight_layout()"
     ],
     "language": "python",
     "metadata": {},
     "outputs": [
      {
       "metadata": {},
       "output_type": "display_data",
       "png": "[encoded data removed]",
       "text": [
        "<matplotlib.figure.Figure at 0x106a35fd0>"
       ]
      }
     ],
     "prompt_number": 18
    },
    {
     "cell_type": "markdown",
     "metadata": {},
     "source": [
      "##Challenge 8\n",
      "\n",
      "This is a preview of many other classification algorithms that we will go over. Scikit.learn has the same interface for all of these, so you can use them exactly the same way as you did LogisticRegression and KNeighborsClassifier. Use each of these to classify your data and print the test accuracy of each:\n",
      "\n",
      "Gaussian Naive Bayes \n",
      "from sklearn.naive_bayes import GaussianNB\n",
      "\n",
      "SVM (Support Vector Machine) Classifier\n",
      "from sklearn.svm import SVC\n",
      "\n",
      "Decision Tree\n",
      "from sklearn.tree import DecisionTreeClassifier\n",
      "\n",
      "Random Forest\n",
      "from sklearn.ensemble import RandomForestClassifier\n",
      "\n"
     ]
    },
    {
     "cell_type": "code",
     "collapsed": false,
     "input": [
      "print \"ACCURACY SCORES\\n\"\n",
      "\n",
      "gauss_nb_clf = GaussianNB().fit(X_train,y_train)\n",
      "gauss_accuracy = get_pred_accuracy(gauss_nb_clf, X_test, y_test)\n",
      "print \"Gaussian Naive Bayes:\", gauss_accuracy\n",
      "\n",
      "svm_clf = SVC().fit(X_train,y_train)\n",
      "svm_accuracy = get_pred_accuracy(svm_clf, X_test, y_test)\n",
      "print \"SVM (Support Vector Machine):\", svm_accuracy\n",
      "\n",
      "dec_tree_clf = DecisionTreeClassifier().fit(X_train,y_train)\n",
      "dec_tree_accuracy = get_pred_accuracy(dec_tree_clf, X_test, y_test)\n",
      "print \"Decision Tree:\", dec_tree_accuracy\n",
      "\n",
      "rand_forest_clf = RandomForestClassifier().fit(X_train,y_train)\n",
      "rand_forest_accuracy = get_pred_accuracy(rand_forest_clf, X_test, y_test)\n",
      "print \"Random Forest:\",rand_forest_accuracy\n"
     ],
     "language": "python",
     "metadata": {},
     "outputs": [
      {
       "output_type": "stream",
       "stream": "stdout",
       "text": [
        "ACCURACY SCORES\n",
        "\n",
        "Gaussian Naive Bayes: 0.926605504587\n",
        "SVM (Support Vector Machine): 0.94495412844\n",
        "Decision Tree: 0.917431192661\n",
        "Random Forest: 0.954128440367\n"
       ]
      }
     ],
     "prompt_number": 19
    },
    {
     "cell_type": "markdown",
     "metadata": {},
     "source": [
      "##Challenge 9\n",
      "\n",
      "There is actually a way to do cross validation quickly to get your accuracy results for an algorithm, without separating training and test yourself:\n",
      "from sklearn.cross_validation import cross_val_score\n",
      "\n",
      "Just like the learning_curve function, this takes a classifier object, X and Y. Returns accuracy (or whatever score you prefer by using the scoring keyword argument). Of course, it will return a score for each cross validation fold, so to get the generalized accuracy, you need to take the mean of what it returns.\n",
      "\n",
      "Use this function to calculate the cross validation score of each of the classifiers you tried before."
     ]
    },
    {
     "cell_type": "code",
     "collapsed": false,
     "input": [
      "#sklearn.cross_validation.cross_val_score(estimator, X, y=None, scoring=None, cv=None, n_jobs=1, verbose=0,\n",
      "#fit_params=None, score_func=None, pre_dispatch='2*n_jobs')\n",
      "\n",
      "print \"CROSS VALIDATION ACCURACY\\n\"\n",
      "\n",
      "gauss_cv_score = np.mean(cross_val_score(GaussianNB(), X, y))\n",
      "print \"Gaussian Naive Bayes:\", gauss_cv_score\n",
      "\n",
      "svm_clf = SVC().fit(X_train,y_train)\n",
      "svm_cv_score = np.mean(cross_val_score(SVC(), X, y))\n",
      "print \"SVM (Support Vector Machine):\", svm_cv_score\n",
      "\n",
      "dec_tree_clf = DecisionTreeClassifier().fit(X_train,y_train)\n",
      "dec_tree_cv_score = np.mean(cross_val_score(DecisionTreeClassifier(), X, y))\n",
      "print \"Decision Tree:\", dec_tree_cv_score\n",
      "\n",
      "rand_forest_cv_score = np.mean(cross_val_score(RandomForestClassifier(), X, y))\n",
      "print \"Random Forest:\",rand_forest_cv_score"
     ],
     "language": "python",
     "metadata": {},
     "outputs": [
      {
       "output_type": "stream",
       "stream": "stdout",
       "text": [
        "CROSS VALIDATION ACCURACY\n",
        "\n",
        "Gaussian Naive Bayes: 0.933333333333\n",
        "SVM (Support Vector Machine): 0.954022988506\n",
        "Decision Tree: 0.954022988506\n",
        "Random Forest:"
       ]
      },
      {
       "output_type": "stream",
       "stream": "stdout",
       "text": [
        " 0.972413793103\n"
       ]
      }
     ],
     "prompt_number": 20
    },
    {
     "cell_type": "markdown",
     "metadata": {},
     "source": [
      "##Challenge 10\n",
      "\n",
      "Instead of 'democrat' or 'republican', can you predict the vote of a representative based on their other votes?\n",
      "\n",
      "Reload the data from scratch. Convert y-->1, n-->0. Choose one vote. Build a classifier (logistic regression or KNN), that uses the other votes (do not use the party as a feature) to predict if the vote will be 1 or 0.\n",
      "\n",
      "Convert each ? to the mode of the column (if a senator has not voted, make their vote 1 if most others voted 1, make it 0 if most others voted 0).\n",
      "\n",
      "Calculate the cross validation accuracy of your classifier for predicting how each representative will vote on the issue."
     ]
    },
    {
     "cell_type": "code",
     "collapsed": false,
     "input": [
      "votes_df_2 = pd.io.parsers.read_csv('./Data/house-votes-84.data.csv',header=None)\n",
      "votes_df_2 = clean_dataframe(votes_df_2,'mode')\n",
      "X = votes_df_2[range(2,17)]\n",
      "y = votes_df_2[1]"
     ],
     "language": "python",
     "metadata": {},
     "outputs": [],
     "prompt_number": 21
    },
    {
     "cell_type": "code",
     "collapsed": false,
     "input": [
      "cv_accuracy = np.mean(cross_val_score(LogisticRegression(),X,y))"
     ],
     "language": "python",
     "metadata": {},
     "outputs": [],
     "prompt_number": 22
    },
    {
     "cell_type": "markdown",
     "metadata": {},
     "source": [
      "##Challenge 11\n",
      "\n",
      "Back to your movie data! Choose one categoric feature to predict. I chose MPAA Rating, but genre, month, etc. are all decent choices. If you don't have any non-numeric features, you can make two bins out of a numeric one (like \"Runtime>100 mins\" and \"Runtime<=100 mins\")\n",
      "\n",
      "Make a bar graph of how many of each movie there is in the data. For example, with Ratings, show how many G, PG, PG-13, R movies there are, etc. (basically a histogram of your labels).\n",
      "\n",
      "Predict your using KNN and logistic regression. Calculate their accuracies.\n",
      "\n",
      "Make a baseline stupid predictor that always predicts the label that is present the most in the data. Calculate its accuracy on a test set.\n",
      "\n",
      "How much better do KNN and logistic regression do versus the baseline?\n",
      "\n",
      "What are the coefficients of logistic regression? Which features affect the outcome how?"
     ]
    },
    {
     "cell_type": "code",
     "collapsed": false,
     "input": [
      "import pickle\n",
      "\n",
      "with open('../Luther/Luther/sequels_df.pkl','r') as picklefile:\n",
      "    movie_data = pickle.load(picklefile)\n",
      "\n",
      "movie_df = pd.DataFrame(movie_data)\n",
      "movies_with_rating = movie_df[movie_df.rating!=\"G(Rating\"]\n",
      "movies_with_rating = movies_with_rating[movies_with_rating.rating!=\"\"]\n",
      "movies_with_rating = movies_with_rating[-movies_with_rating.rating.isnull()]"
     ],
     "language": "python",
     "metadata": {},
     "outputs": [],
     "prompt_number": 23
    },
    {
     "cell_type": "code",
     "collapsed": false,
     "input": [
      "def predict_pg_13(X):\n",
      "    return_array = ['PG-13']*len(X)\n",
      "    return return_array"
     ],
     "language": "python",
     "metadata": {},
     "outputs": [],
     "prompt_number": 44
    },
    {
     "cell_type": "code",
     "collapsed": false,
     "input": [
      "y = movies_with_rating['rating']\n",
      "X = movies_with_rating[['domestic_box','time_between','number_in_series','budget','cast_overlap_10']]"
     ],
     "language": "python",
     "metadata": {},
     "outputs": [],
     "prompt_number": 37
    },
    {
     "cell_type": "code",
     "collapsed": false,
     "input": [
      "rating_series = y.value_counts()\n",
      "bar_names = rating_series.keys()\n",
      "heights=rating_series.values"
     ],
     "language": "python",
     "metadata": {},
     "outputs": [],
     "prompt_number": 38
    },
    {
     "cell_type": "code",
     "collapsed": false,
     "input": [
      "pos = [x+0.5 for x in range(len(heights))]\n",
      "plt.bar(pos,heights,align='center')\n",
      "_=plt.xticks(pos,bar_names)"
     ],
     "language": "python",
     "metadata": {},
     "outputs": [
      {
       "metadata": {},
       "output_type": "display_data",
       "png": "[encoded data removed]",
       "text": [
        "<matplotlib.figure.Figure at 0x10c5b6c90>"
       ]
      }
     ],
     "prompt_number": 39
    },
    {
     "cell_type": "code",
     "collapsed": false,
     "input": [
      "print \"ACCURACY SCORES\\n\"\n",
      "\n",
      "lr_cv_score = np.mean(cross_val_score(LogisticRegression(), X, y))\n",
      "print \"Logistic Regression: \" + str(lr_cv_score)\n",
      "\n",
      "knn_cv_score = np.mean(cross_val_score(KNeighborsClassifier(), X, y))\n",
      "print \"K Nearest Neighbors: \" + str(knn_cv_score)\n",
      "\n",
      "most_common_score = accuracy_score(y,predict_pg_13(X))\n",
      "print \"PG-13 Prediction: \" + str(most_common_score)"
     ],
     "language": "python",
     "metadata": {},
     "outputs": [
      {
       "output_type": "stream",
       "stream": "stdout",
       "text": [
        "ACCURACY SCORES\n",
        "\n",
        "Logistic Regression: 0.423558897243\n",
        "K Nearest Neighbors: 0.400323725982\n",
        "PG-13 Prediction: 0.423529411765\n"
       ]
      }
     ],
     "prompt_number": 46
    },
    {
     "cell_type": "code",
     "collapsed": false,
     "input": [
      "model = LogisticRegression().fit(X,y)\n",
      "model.coef_"
     ],
     "language": "python",
     "metadata": {},
     "outputs": [
      {
       "metadata": {},
       "output_type": "pyout",
       "prompt_number": 43,
       "text": [
        "array([[ -1.44314878e-25,  -2.58099608e-17,  -2.51505124e-33,\n",
        "         -6.92810175e-26,  -3.51511098e-34],\n",
        "       [ -1.66417295e-26,  -8.32409740e-18,  -4.84132319e-34,\n",
        "         -1.07466954e-26,  -3.46521610e-35],\n",
        "       [  5.70766713e-27,  -2.01109567e-18,   4.77546215e-35,\n",
        "          5.24567686e-27,  -1.59671284e-35],\n",
        "       [ -2.06423951e-26,  -3.26688158e-18,  -1.65905469e-34,\n",
        "         -1.08085552e-26,  -3.30621014e-35]])"
       ]
      }
     ],
     "prompt_number": 43
    },
    {
     "cell_type": "markdown",
     "metadata": {},
     "source": [
      "##Challenge 12\n",
      "\n",
      "Now you are a classification master. The representative votes dataset only had 0s and 1s. Let's just swiftly tackle the breast cancer surgery data we talked about in class.\n",
      "\n",
      "Get it from here.\n",
      "What is the average and standard deviation of the age of all of the patients? What is the average and standard deviation of the age of those patients that survived 5 or more years after surgery?\n",
      "What is the average and standard deviation of the age of those patients who survived fewer than 5 years after surgery?\n",
      "Plot a histogram of the ages side by side with a histogram of the number of axillary nodes.\n",
      "What is the earliest year of surgery in this dataset?\n",
      "What is the most recent year of surgery?\n",
      "\n",
      "Use logistic regression to predict survival after 5 years. How well does your model do? What are the coefficients of logistic regression? Which features affect the outcome how?\n",
      "\n",
      "Draw the learning curve for logistic regression in this case."
     ]
    },
    {
     "cell_type": "code",
     "collapsed": false,
     "input": [
      "haberman_df = pd.io.parsers.read_csv('./Data/haberman.data.csv',header=None)\n",
      "haberman_df.columns=['Age_of_Patient','Year_of_Operation','Positive_Nodes_Detected','Survival_Status']"
     ],
     "language": "python",
     "metadata": {},
     "outputs": [],
     "prompt_number": 56
    },
    {
     "cell_type": "code",
     "collapsed": false,
     "input": [
      "age_mean = haberman_df.mean().Age_of_Patient\n",
      "age_std = haberman_df.std().Age_of_Patient\n",
      "\n",
      "long_survival_age_mean = haberman_df[haberman_df.Survival_Status==1].mean().Age_of_Patient\n",
      "long_survival_age_std = haberman_df[haberman_df.Survival_Status==1].std().Age_of_Patient\n",
      "short_survival_age_mean = haberman_df[haberman_df.Survival_Status==2].mean().Age_of_Patient\n",
      "short_survival_age_std = haberman_df[haberman_df.Survival_Status==2].std().Age_of_Patient"
     ],
     "language": "python",
     "metadata": {},
     "outputs": [],
     "prompt_number": 63
    },
    {
     "cell_type": "code",
     "collapsed": false,
     "input": [
      "fig,ax=plt.subplots(1,2,figsize=(10,5))\n",
      "\n",
      "ax[0].hist(haberman_df.Age_of_Patient)\n",
      "ax[0].set_xlabel(\"Ages of Patient\")\n",
      "\n",
      "ax[1].set_xscale('log')\n",
      "ax[1].hist(haberman_df.Positive_Nodes_Detected,bins=np.logspace(0,2,10))\n",
      "ax[1].set_xlabel(\"Number of Positive Nodes Detected\")"
     ],
     "language": "python",
     "metadata": {},
     "outputs": [
      {
       "metadata": {},
       "output_type": "pyout",
       "prompt_number": 93,
       "text": [
        "<matplotlib.text.Text at 0x10f95e6d0>"
       ]
      },
      {
       "metadata": {},
       "output_type": "display_data",
       "png": "[encoded data removed]",
       "text": [
        "<matplotlib.figure.Figure at 0x10f4df510>"
       ]
      }
     ],
     "prompt_number": 93
    },
    {
     "cell_type": "code",
     "collapsed": false,
     "input": [
      "first_surgery = min(haberman_df.Year_of_Operation)\n",
      "print 'Earliest Year of Surgery: 19'+str(first_surgery)\n",
      "\n",
      "last_surgery = max(haberman_df.Year_of_Operation)\n",
      "print 'Most Recent Year of Surgery: 19'+str(last_surgery)"
     ],
     "language": "python",
     "metadata": {},
     "outputs": [
      {
       "output_type": "stream",
       "stream": "stdout",
       "text": [
        "Earliest Year of Surgery: 1958\n",
        "Most Recent Year of Surgery: 1969\n"
       ]
      }
     ],
     "prompt_number": 92
    },
    {
     "cell_type": "code",
     "collapsed": false,
     "input": [
      "X=haberman_df[['Age_of_Patient','Year_of_Operation','Positive_Nodes_Detected']]\n",
      "y=haberman_df.Survival_Status"
     ],
     "language": "python",
     "metadata": {},
     "outputs": [],
     "prompt_number": 95
    },
    {
     "cell_type": "code",
     "collapsed": false,
     "input": [
      "lr_model = LogisticRegression().fit(X,y)\n",
      "lr_model.score(X,y)"
     ],
     "language": "python",
     "metadata": {},
     "outputs": [
      {
       "metadata": {},
       "output_type": "pyout",
       "prompt_number": 108,
       "text": [
        "0.74836601307189543"
       ]
      }
     ],
     "prompt_number": 108
    },
    {
     "cell_type": "code",
     "collapsed": false,
     "input": [
      "lr_model.coef_"
     ],
     "language": "python",
     "metadata": {},
     "outputs": [
      {
       "metadata": {},
       "output_type": "pyout",
       "prompt_number": 100,
       "text": [
        "array([[ 0.01854689, -0.0345458 ,  0.08812314]])"
       ]
      }
     ],
     "prompt_number": 100
    },
    {
     "cell_type": "code",
     "collapsed": false,
     "input": [],
     "language": "python",
     "metadata": {},
     "outputs": [
      {
       "metadata": {},
       "output_type": "pyout",
       "prompt_number": 107,
       "text": [
        "0.74836601307189543"
       ]
      }
     ],
     "prompt_number": 107
    },
    {
     "cell_type": "code",
     "collapsed": false,
     "input": [
      "plot_learning_curve(LogisticRegression,X,y,plt)\n",
      "plt.legend()"
     ],
     "language": "python",
     "metadata": {},
     "outputs": [
      {
       "metadata": {},
       "output_type": "pyout",
       "prompt_number": 104,
       "text": [
        "<matplotlib.legend.Legend at 0x10fde31d0>"
       ]
      },
      {
       "metadata": {},
       "output_type": "display_data",
       "png": "[encoded data removed]",
       "text": [
        "<matplotlib.figure.Figure at 0x10fde3390>"
       ]
      }
     ],
     "prompt_number": 104
    }
   ],
   "metadata": {}
  }
 ]
}